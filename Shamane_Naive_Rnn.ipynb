{
 "cells": [
  {
   "cell_type": "code",
   "execution_count": 1,
   "metadata": {},
   "outputs": [],
   "source": [
    "#decoding the data\n",
    "import numpy as np\n",
    "import tensorflow as tf\n",
    "import helpers\n",
    "\n",
    "import os\n",
    "\n",
    "\n",
    "\n",
    "SEPCTURAL_SAMPLES = 40\n",
    "\n",
    "#FEATURE_DIM = SEPCTURAL_SAMPLES*6*2   # This data set = 30\n",
    "FEATURE_DIM=30\n",
    "\n",
    "\n",
    "\n",
    "#INTER_DIM = 120  #60\n",
    "INTER_DIM=30\n",
    "\n",
    "\n",
    "#OUT_DIM = 6#len(idDict)  #66\n",
    "OUT_DIM = 66\n",
    "\n",
    "\n",
    "#WIDE = 20  #time step  #40\n",
    "WIDE=40\n",
    "\n",
    "\n",
    "\n",
    "\n",
    "\n",
    "BATCH_SIZE = 16\n",
    "TOTAL_ITER_NUM = 1000000000"
   ]
  },
  {
   "cell_type": "code",
   "execution_count": 2,
   "metadata": {},
   "outputs": [],
   "source": [
    "import pdb\n",
    "def read_audio_csv(filename_queue):\n",
    "\treader = tf.TextLineReader()\n",
    "\tkey, value = reader.read(filename_queue)\n",
    "\n",
    "\tdefaultVal = [[0.] for idx in range(WIDE*FEATURE_DIM + OUT_DIM)]\n",
    "\n",
    "\tfileData = tf.decode_csv(value, record_defaults=defaultVal)\n",
    "\n",
    "\tfeatures = fileData[:WIDE*FEATURE_DIM]\n",
    "  \n",
    "\tfeatures = tf.reshape(features, [WIDE, FEATURE_DIM])\n",
    "\tlabels = fileData[WIDE*FEATURE_DIM:] \n",
    "\n",
    "\treturn features, labels\n",
    "\n",
    "def input_pipeline(filenames, batch_size, shuffle_sample=True, num_epochs=None):\n",
    "\tfilename_queue = tf.train.string_input_producer(filenames, shuffle=shuffle_sample)\n",
    "\n",
    "\t# filename_queue = tf.train.string_input_producer(filenames, num_epochs=TOTAL_ITER_NUM*EVAL_ITER_NUM*10000000, shuffle=shuffle_sample)\n",
    "\texample, label = read_audio_csv(filename_queue)\n",
    "\tmin_after_dequeue = 2000#int(0.4*len(csvFileList)) #1000\n",
    "\tcapacity = min_after_dequeue + 3 * batch_size\n",
    "\tif shuffle_sample:\n",
    "\t\texample_batch, label_batch = tf.train.shuffle_batch(\n",
    "\t\t\t[example, label], batch_size=batch_size, num_threads=16, capacity=capacity,\n",
    "\t\t\tmin_after_dequeue=min_after_dequeue)\n",
    "\telse:\n",
    "\t\texample_batch, label_batch = tf.train.batch(\n",
    "\t\t\t[example, label], batch_size=batch_size, num_threads=16)\n",
    "\treturn example_batch, label_batch"
   ]
  },
  {
   "cell_type": "code",
   "execution_count": 3,
   "metadata": {},
   "outputs": [
    {
     "name": "stdout",
     "output_type": "stream",
     "text": [
      "N_Z\n"
     ]
    },
    {
     "data": {
      "text/plain": [
       "76"
      ]
     },
     "execution_count": 3,
     "metadata": {},
     "output_type": "execute_result"
    }
   ],
   "source": [
    "csvFileList = []\n",
    "\n",
    "csvDataFolder1 = os.path.join('N_Z')\n",
    "#csvDataFolder1 = os.path.join('Data_V1')\n",
    "\n",
    "print(csvDataFolder1)\n",
    "orgCsvFileList = os.listdir(csvDataFolder1)\n",
    "\n",
    "len(orgCsvFileList)\n"
   ]
  },
  {
   "cell_type": "code",
   "execution_count": 4,
   "metadata": {},
   "outputs": [],
   "source": [
    "for csvFile in orgCsvFileList:\n",
    "\tif csvFile.endswith('.csv'):\n",
    "\t\tcsvFileList.append(os.path.join(csvDataFolder1, csvFile))"
   ]
  },
  {
   "cell_type": "code",
   "execution_count": 5,
   "metadata": {},
   "outputs": [
    {
     "data": {
      "text/plain": [
       "76"
      ]
     },
     "execution_count": 5,
     "metadata": {},
     "output_type": "execute_result"
    }
   ],
   "source": [
    "len(csvFileList)"
   ]
  },
  {
   "cell_type": "code",
   "execution_count": 6,
   "metadata": {},
   "outputs": [],
   "source": [
    "batch_size=16\n",
    "batch_feature, batch_label = input_pipeline(csvFileList, batch_size)\n",
    "#print(batch_feature)\n",
    "#pdb.set_trace() \n",
    "#print(batch_label)"
   ]
  },
  {
   "cell_type": "code",
   "execution_count": 7,
   "metadata": {},
   "outputs": [],
   "source": [
    "sensor_inputs = tf.expand_dims(batch_feature, axis=3)"
   ]
  },
  {
   "cell_type": "code",
   "execution_count": 8,
   "metadata": {},
   "outputs": [
    {
     "data": {
      "text/plain": [
       "<tf.Tensor 'ExpandDims:0' shape=(16, 40, 30, 1) dtype=float32>"
      ]
     },
     "execution_count": 8,
     "metadata": {},
     "output_type": "execute_result"
    }
   ],
   "source": [
    "sensor_inputs"
   ]
  },
  {
   "cell_type": "code",
   "execution_count": 9,
   "metadata": {},
   "outputs": [
    {
     "name": "stdout",
     "output_type": "stream",
     "text": [
      "WARNING:tensorflow:From /home/dl/py2/local/lib/python2.7/site-packages/tensorflow/contrib/learn/python/learn/datasets/base.py:198: retry (from tensorflow.contrib.learn.python.learn.datasets.base) is deprecated and will be removed in a future version.\n",
      "Instructions for updating:\n",
      "Use the retry module or similar alternatives.\n"
     ]
    }
   ],
   "source": [
    "output_keep_prob=0.5\n",
    "train=False\n",
    "\n",
    "gru_cell1 = tf.contrib.rnn.GRUCell(128)\n",
    "if train:\n",
    "    gru_cell1 = tf.contrib.rnn.DropoutWrapper(gru_cell1, output_keep_prob=0.5)\n",
    "\n",
    "gru_cell2 = tf.contrib.rnn.GRUCell(128)\n",
    "if train:\n",
    "    gru_cell2 = tf.contrib.rnn.DropoutWrapper(gru_cell2, output_keep_prob=0.5)"
   ]
  },
  {
   "cell_type": "code",
   "execution_count": 10,
   "metadata": {},
   "outputs": [],
   "source": [
    "used = tf.sign(tf.reduce_max(tf.abs(batch_feature), reduction_indices=2))"
   ]
  },
  {
   "cell_type": "code",
   "execution_count": 11,
   "metadata": {},
   "outputs": [],
   "source": [
    "#print(batch_feature)"
   ]
  },
  {
   "cell_type": "code",
   "execution_count": 12,
   "metadata": {},
   "outputs": [],
   "source": [
    "length = tf.reduce_sum(used, reduction_indices=1) #(BATCH_SIZE)"
   ]
  },
  {
   "cell_type": "code",
   "execution_count": 13,
   "metadata": {},
   "outputs": [
    {
     "data": {
      "text/plain": [
       "<tf.Tensor 'Sum:0' shape=(16,) dtype=float32>"
      ]
     },
     "execution_count": 13,
     "metadata": {},
     "output_type": "execute_result"
    }
   ],
   "source": [
    "length"
   ]
  },
  {
   "cell_type": "code",
   "execution_count": 14,
   "metadata": {},
   "outputs": [
    {
     "data": {
      "text/plain": [
       "<tf.Tensor 'Cast:0' shape=(16,) dtype=int64>"
      ]
     },
     "execution_count": 14,
     "metadata": {},
     "output_type": "execute_result"
    }
   ],
   "source": [
    "length = tf.cast(length, tf.int64)\n",
    "length"
   ]
  },
  {
   "cell_type": "code",
   "execution_count": 15,
   "metadata": {},
   "outputs": [
    {
     "data": {
      "text/plain": [
       "<tf.Tensor 'ExpandDims:0' shape=(16, 40, 30, 1) dtype=float32>"
      ]
     },
     "execution_count": 15,
     "metadata": {},
     "output_type": "execute_result"
    }
   ],
   "source": [
    "sensor_inputs"
   ]
  },
  {
   "cell_type": "code",
   "execution_count": 16,
   "metadata": {},
   "outputs": [],
   "source": [
    "#cell = tf.contrib.rnn.MultiRNNCell([gru_cell1, gru_cell2])\n",
    "cell = tf.contrib.rnn.MultiRNNCell([gru_cell1,gru_cell2])"
   ]
  },
  {
   "cell_type": "code",
   "execution_count": 17,
   "metadata": {},
   "outputs": [],
   "source": [
    "init_state = cell.zero_state(BATCH_SIZE, tf.float32)"
   ]
  },
  {
   "cell_type": "code",
   "execution_count": 18,
   "metadata": {},
   "outputs": [],
   "source": [
    "cell_output, final_stateTuple = tf.nn.dynamic_rnn(cell, batch_feature, sequence_length=length, initial_state=init_state, time_major=False)"
   ]
  },
  {
   "cell_type": "code",
   "execution_count": 19,
   "metadata": {},
   "outputs": [
    {
     "data": {
      "text/plain": [
       "<tf.Tensor 'rnn/transpose_1:0' shape=(16, 40, 128) dtype=float32>"
      ]
     },
     "execution_count": 19,
     "metadata": {},
     "output_type": "execute_result"
    }
   ],
   "source": [
    "cell_output"
   ]
  },
  {
   "cell_type": "code",
   "execution_count": 20,
   "metadata": {},
   "outputs": [
    {
     "name": "stdout",
     "output_type": "stream",
     "text": [
      "Tensor(\"Sign_1:0\", shape=(16, 40, 1), dtype=float32)\n",
      "Tensor(\"Tile:0\", shape=(16, 40, 128), dtype=float32)\n"
     ]
    }
   ],
   "source": [
    "inputs=batch_feature\n",
    "mask = tf.sign(tf.reduce_max(tf.abs(inputs), reduction_indices=2, keepdims=True))\n",
    "print(mask)\n",
    "mask = tf.tile(mask, [1,1,128]) # (BATCH_SIZE, WIDE, INTER_DIM)\n",
    "avgNum = tf.reduce_sum(mask, reduction_indices=1) #(BATCH_SIZE, INTER_DIM)\n",
    "print mask"
   ]
  },
  {
   "cell_type": "code",
   "execution_count": 21,
   "metadata": {},
   "outputs": [
    {
     "name": "stdout",
     "output_type": "stream",
     "text": [
      "Tensor(\"Tile:0\", shape=(16, 40, 128), dtype=float32)\n",
      "Tensor(\"Sum_1:0\", shape=(16, 128), dtype=float32)\n"
     ]
    }
   ],
   "source": [
    "print(mask)\n",
    "print(avgNum )"
   ]
  },
  {
   "cell_type": "code",
   "execution_count": 22,
   "metadata": {},
   "outputs": [
    {
     "name": "stdout",
     "output_type": "stream",
     "text": [
      "WARNING:tensorflow:From <ipython-input-22-e13833c5321a>:2: calling reduce_sum (from tensorflow.python.ops.math_ops) with keep_dims is deprecated and will be removed in a future version.\n",
      "Instructions for updating:\n",
      "keep_dims is deprecated, use keepdims instead\n"
     ]
    }
   ],
   "source": [
    "layers = tf.contrib.layers \n",
    "sum_cell_out = tf.reduce_sum(cell_output*mask, axis=1, keep_dims=False)\n",
    "avg_cell_out = sum_cell_out/avgNum\n",
    "\n",
    "logits = layers.fully_connected(avg_cell_out, OUT_DIM, activation_fn=None, scope='output')\n"
   ]
  },
  {
   "cell_type": "code",
   "execution_count": 23,
   "metadata": {},
   "outputs": [
    {
     "name": "stdout",
     "output_type": "stream",
     "text": [
      "WARNING:tensorflow:From <ipython-input-23-429594a35280>:3: softmax_cross_entropy_with_logits (from tensorflow.python.ops.nn_ops) is deprecated and will be removed in a future version.\n",
      "Instructions for updating:\n",
      "\n",
      "Future major versions of TensorFlow will allow gradients to flow\n",
      "into the labels input on backprop by default.\n",
      "\n",
      "See tf.nn.softmax_cross_entropy_with_logits_v2.\n",
      "\n"
     ]
    }
   ],
   "source": [
    "predict = tf.argmax(logits, axis=1)\n",
    "predict\n",
    "batchLoss = tf.nn.softmax_cross_entropy_with_logits(logits=logits, labels=batch_label)\n",
    "loss = tf.reduce_mean(batchLoss)\n",
    "t_vars = tf.trainable_variables()\n",
    "\n",
    "regularizers = 0.\n",
    "for var in t_vars:\n",
    "\tregularizers += tf.nn.l2_loss(var)\n",
    "loss += 5e-4 * regularizers\n",
    "\n",
    "\n",
    "discOptimizer = tf.train.AdamOptimizer(\n",
    "\t\tlearning_rate=1e-4, \n",
    "\t\tbeta1=0.5,\n",
    "\t\tbeta2=0.9\n",
    "\t).minimize(loss, var_list=t_vars)"
   ]
  },
  {
   "cell_type": "code",
   "execution_count": 24,
   "metadata": {},
   "outputs": [],
   "source": [
    "import matplotlib.pyplot as plt\n"
   ]
  },
  {
   "cell_type": "code",
   "execution_count": null,
   "metadata": {},
   "outputs": [],
   "source": [
    "tf.initialize_all_variables()\n",
    "\n",
    "saver = tf.train.Saver()\n",
    "\n",
    "with tf.Session() as sess:\n",
    "\ttf.train.start_queue_runners()\n",
    "\tsess.run(tf.local_variables_initializer())\n",
    "\ttf.global_variables_initializer().run()\n",
    "\n",
    "\tcoord = tf.train.Coordinator()\n",
    "\tthreads = tf.train.start_queue_runners(coord=coord)\n",
    "\n",
    "\tfor iteration in xrange(1000000000):\n",
    "\t\tprint(\"Iteration NUmber :\", iteration)        \n",
    "\t\t_, lossV, _trainY, _predict = sess.run([discOptimizer, loss, batch_label, predict])\n",
    "        \n",
    "\t\t        \n",
    "\t\tprint(lossV)\n",
    "\t\t_label = np.argmax(_trainY, axis=1)\n",
    "\t\t_accuracy = np.mean(_label == _predict)        \n",
    "\t\tprint(_accuracy)\n",
    "\t\tcoord.request_stop()\n",
    "\t\tcoord.join(threads)\n",
    "        \n",
    "\t\tif iteration % 20000 == 0:\n",
    "\t\t\tsave_path = saver.save(sess, \"/home/dl/Documents/Shamane Research - Repo/tensorflow-seq2seq-tutorials-master/check\",global_step=iteration)\n",
    "\t\t\tprint(\"Model saved in path: %s\" % save_path)\n",
    "            \n"
   ]
  },
  {
   "cell_type": "code",
   "execution_count": null,
   "metadata": {},
   "outputs": [
    {
     "name": "stdout",
     "output_type": "stream",
     "text": [
      "WARNING:tensorflow:From /home/dl/py2/local/lib/python2.7/site-packages/tensorflow/python/util/tf_should_use.py:118: initialize_all_variables (from tensorflow.python.ops.variables) is deprecated and will be removed after 2017-03-02.\n",
      "Instructions for updating:\n",
      "Use `tf.global_variables_initializer` instead.\n",
      "/home/dl/Documents/Shamane Research - Repo/tensorflow-seq2seq-tutorials-master/check-20000\n",
      "INFO:tensorflow:Restoring parameters from /home/dl/Documents/Shamane Research - Repo/tensorflow-seq2seq-tutorials-master/check-20000\n",
      "Successfully loaded model from /home/dl/Documents/Shamane Research - Repo/tensorflow-seq2seq-tutorials-master/check-20000 at step=20000.\n",
      "('Iteration NUmber :', 0)\n",
      "0.125\n",
      "('Iteration NUmber :', 1)\n",
      "0.0625\n",
      "('Iteration NUmber :', 2)\n",
      "0.125\n",
      "('Iteration NUmber :', 3)\n",
      "0.0\n",
      "('Iteration NUmber :', 4)\n",
      "0.0625\n",
      "('Iteration NUmber :', 5)\n",
      "0.0625\n",
      "('Iteration NUmber :', 6)\n",
      "0.0625\n",
      "('Iteration NUmber :', 7)\n",
      "0.0625\n",
      "('Iteration NUmber :', 8)\n",
      "0.0\n",
      "('Iteration NUmber :', 9)\n",
      "0.0625\n",
      "('Iteration NUmber :', 10)\n",
      "0.0625\n",
      "('Iteration NUmber :', 11)\n",
      "0.0625\n",
      "('Iteration NUmber :', 12)\n",
      "0.0\n",
      "('Iteration NUmber :', 13)\n",
      "0.0625\n",
      "('Iteration NUmber :', 14)\n",
      "0.125\n",
      "('Iteration NUmber :', 15)\n",
      "0.0625\n",
      "('Iteration NUmber :', 16)\n",
      "0.0625\n",
      "('Iteration NUmber :', 17)\n",
      "0.0625\n",
      "('Iteration NUmber :', 18)\n",
      "0.0\n",
      "('Iteration NUmber :', 19)\n",
      "0.0\n",
      "('Iteration NUmber :', 20)\n",
      "0.125\n",
      "('Iteration NUmber :', 21)\n",
      "0.0625\n",
      "('Iteration NUmber :', 22)\n",
      "0.1875\n",
      "('Iteration NUmber :', 23)\n",
      "0.0625\n",
      "('Iteration NUmber :', 24)\n",
      "0.125\n",
      "('Iteration NUmber :', 25)\n",
      "0.125\n",
      "('Iteration NUmber :', 26)\n",
      "0.125\n",
      "('Iteration NUmber :', 27)\n",
      "0.0625\n",
      "('Iteration NUmber :', 28)\n",
      "0.125\n",
      "('Iteration NUmber :', 29)\n",
      "0.0625\n",
      "('Iteration NUmber :', 30)\n",
      "0.0625\n",
      "('Iteration NUmber :', 31)\n",
      "0.1875\n",
      "('Iteration NUmber :', 32)\n",
      "0.1875\n",
      "('Iteration NUmber :', 33)\n",
      "0.0625\n",
      "('Iteration NUmber :', 34)\n",
      "0.0625\n",
      "('Iteration NUmber :', 35)\n",
      "0.125\n",
      "('Iteration NUmber :', 36)\n",
      "0.125\n",
      "('Iteration NUmber :', 37)\n",
      "0.0625\n",
      "('Iteration NUmber :', 38)\n",
      "0.125\n",
      "('Iteration NUmber :', 39)\n",
      "0.0625\n",
      "('Iteration NUmber :', 40)\n",
      "0.0\n",
      "('Iteration NUmber :', 41)\n",
      "0.0625\n",
      "('Iteration NUmber :', 42)\n",
      "0.0\n",
      "('Iteration NUmber :', 43)\n",
      "0.25\n",
      "('Iteration NUmber :', 44)\n",
      "0.0625\n",
      "('Iteration NUmber :', 45)\n",
      "0.125\n",
      "('Iteration NUmber :', 46)\n",
      "0.0625\n",
      "('Iteration NUmber :', 47)\n",
      "0.125\n",
      "('Iteration NUmber :', 48)\n",
      "0.0625\n",
      "('Iteration NUmber :', 49)\n",
      "0.125\n",
      "('Iteration NUmber :', 50)\n",
      "0.0625\n",
      "('Iteration NUmber :', 51)\n",
      "0.0\n",
      "('Iteration NUmber :', 52)\n",
      "0.1875\n",
      "('Iteration NUmber :', 53)\n",
      "0.1875\n",
      "('Iteration NUmber :', 54)\n",
      "0.125\n",
      "('Iteration NUmber :', 55)\n",
      "0.1875\n",
      "('Iteration NUmber :', 56)\n",
      "0.0625\n",
      "('Iteration NUmber :', 57)\n",
      "0.125\n",
      "('Iteration NUmber :', 58)\n",
      "0.125\n",
      "('Iteration NUmber :', 59)\n",
      "0.0\n",
      "('Iteration NUmber :', 60)\n",
      "0.0625\n",
      "('Iteration NUmber :', 61)\n",
      "0.3125\n",
      "('Iteration NUmber :', 62)\n",
      "0.1875\n",
      "('Iteration NUmber :', 63)\n",
      "0.0625\n",
      "('Iteration NUmber :', 64)\n",
      "0.0625\n",
      "('Iteration NUmber :', 65)\n",
      "0.0625\n",
      "('Iteration NUmber :', 66)\n",
      "0.1875\n",
      "('Iteration NUmber :', 67)\n",
      "0.125\n",
      "('Iteration NUmber :', 68)\n",
      "0.125\n",
      "('Iteration NUmber :', 69)\n",
      "0.125\n",
      "('Iteration NUmber :', 70)\n",
      "0.3125\n",
      "('Iteration NUmber :', 71)\n",
      "0.0625\n",
      "('Iteration NUmber :', 72)\n",
      "0.0625\n",
      "('Iteration NUmber :', 73)\n",
      "0.125\n",
      "('Iteration NUmber :', 74)\n",
      "0.0\n",
      "('Iteration NUmber :', 75)\n",
      "0.1875\n",
      "('Iteration NUmber :', 76)\n",
      "0.125\n",
      "('Iteration NUmber :', 77)\n",
      "0.0\n",
      "('Iteration NUmber :', 78)\n",
      "0.0625\n",
      "('Iteration NUmber :', 79)\n",
      "0.0\n",
      "('Iteration NUmber :', 80)\n",
      "0.125\n",
      "('Iteration NUmber :', 81)\n",
      "0.1875\n",
      "('Iteration NUmber :', 82)\n",
      "0.125\n",
      "('Iteration NUmber :', 83)\n",
      "0.125\n",
      "('Iteration NUmber :', 84)\n",
      "0.0625\n",
      "('Iteration NUmber :', 85)\n",
      "0.0\n",
      "('Iteration NUmber :', 86)\n",
      "0.125\n",
      "('Iteration NUmber :', 87)\n",
      "0.0625\n",
      "('Iteration NUmber :', 88)\n",
      "0.0\n",
      "('Iteration NUmber :', 89)\n",
      "0.375\n",
      "('Iteration NUmber :', 90)\n",
      "0.0625\n",
      "('Iteration NUmber :', 91)\n",
      "0.0625\n",
      "('Iteration NUmber :', 92)\n",
      "0.0625\n",
      "('Iteration NUmber :', 93)\n",
      "0.1875\n",
      "('Iteration NUmber :', 94)\n",
      "0.125\n",
      "('Iteration NUmber :', 95)\n",
      "0.0625\n",
      "('Iteration NUmber :', 96)\n",
      "0.0\n",
      "('Iteration NUmber :', 97)\n",
      "0.0625\n",
      "('Iteration NUmber :', 98)\n",
      "0.0625\n",
      "('Iteration NUmber :', 99)\n",
      "0.125\n",
      "('Iteration NUmber :', 100)\n",
      "0.0\n",
      "('Iteration NUmber :', 101)\n",
      "0.125\n",
      "('Iteration NUmber :', 102)\n",
      "0.1875\n",
      "('Iteration NUmber :', 103)\n",
      "0.1875\n",
      "('Iteration NUmber :', 104)\n",
      "0.125\n",
      "('Iteration NUmber :', 105)\n",
      "0.0625\n",
      "('Iteration NUmber :', 106)\n",
      "0.1875\n",
      "('Iteration NUmber :', 107)\n",
      "0.125\n",
      "('Iteration NUmber :', 108)\n",
      "0.125\n",
      "('Iteration NUmber :', 109)\n",
      "0.0\n",
      "('Iteration NUmber :', 110)\n",
      "0.0625\n",
      "('Iteration NUmber :', 111)\n",
      "0.0625\n",
      "('Iteration NUmber :', 112)\n",
      "0.0625\n",
      "('Iteration NUmber :', 113)\n",
      "0.0625\n",
      "('Iteration NUmber :', 114)\n",
      "0.125\n",
      "('Iteration NUmber :', 115)\n",
      "0.0625\n",
      "('Iteration NUmber :', 116)\n",
      "0.0625\n",
      "('Iteration NUmber :', 117)\n",
      "0.0625\n",
      "('Iteration NUmber :', 118)\n",
      "0.125\n",
      "('Iteration NUmber :', 119)\n",
      "0.125\n",
      "('Iteration NUmber :', 120)\n",
      "0.0\n",
      "('Iteration NUmber :', 121)\n",
      "0.1875\n",
      "('Iteration NUmber :', 122)\n",
      "0.125\n",
      "('Iteration NUmber :', 123)\n",
      "0.125\n",
      "('Iteration NUmber :', 124)\n",
      "0.125\n",
      "('Iteration NUmber :', 125)\n",
      "0.0\n",
      "('Iteration NUmber :', 126)\n",
      "0.1875\n",
      "('Iteration NUmber :', 127)\n",
      "0.0625\n",
      "('Iteration NUmber :', 128)\n",
      "0.25\n",
      "('Iteration NUmber :', 129)\n",
      "0.125\n",
      "('Iteration NUmber :', 130)\n",
      "0.0\n",
      "('Iteration NUmber :', 131)\n",
      "0.0625\n",
      "('Iteration NUmber :', 132)\n",
      "0.0625\n",
      "('Iteration NUmber :', 133)\n",
      "0.125\n",
      "('Iteration NUmber :', 134)\n",
      "0.0625\n",
      "('Iteration NUmber :', 135)\n",
      "0.125\n",
      "('Iteration NUmber :', 136)\n",
      "0.25\n",
      "('Iteration NUmber :', 137)\n",
      "0.0\n",
      "('Iteration NUmber :', 138)\n",
      "0.125\n",
      "('Iteration NUmber :', 139)\n",
      "0.125\n",
      "('Iteration NUmber :', 140)\n",
      "0.0625\n",
      "('Iteration NUmber :', 141)\n",
      "0.0\n",
      "('Iteration NUmber :', 142)\n",
      "0.125\n",
      "('Iteration NUmber :', 143)\n",
      "0.0\n",
      "('Iteration NUmber :', 144)\n",
      "0.0625\n",
      "('Iteration NUmber :', 145)\n",
      "0.0\n",
      "('Iteration NUmber :', 146)\n",
      "0.0625\n",
      "('Iteration NUmber :', 147)\n",
      "0.0625\n",
      "('Iteration NUmber :', 148)\n",
      "0.0625\n",
      "('Iteration NUmber :', 149)\n",
      "0.0625\n",
      "('Iteration NUmber :', 150)\n",
      "0.0625\n",
      "('Iteration NUmber :', 151)\n",
      "0.0\n",
      "('Iteration NUmber :', 152)\n",
      "0.0625\n",
      "('Iteration NUmber :', 153)\n",
      "0.0\n",
      "('Iteration NUmber :', 154)\n",
      "0.0625\n",
      "('Iteration NUmber :', 155)\n",
      "0.0625\n",
      "('Iteration NUmber :', 156)\n",
      "0.125\n",
      "('Iteration NUmber :', 157)\n",
      "0.0\n",
      "('Iteration NUmber :', 158)\n",
      "0.0625\n",
      "('Iteration NUmber :', 159)\n",
      "0.0\n",
      "('Iteration NUmber :', 160)\n",
      "0.125\n",
      "('Iteration NUmber :', 161)\n",
      "0.125\n",
      "('Iteration NUmber :', 162)\n",
      "0.0625\n",
      "('Iteration NUmber :', 163)\n",
      "0.1875\n",
      "('Iteration NUmber :', 164)\n",
      "0.0625\n",
      "('Iteration NUmber :', 165)\n",
      "0.0625\n",
      "('Iteration NUmber :', 166)\n",
      "0.125\n",
      "('Iteration NUmber :', 167)\n",
      "0.0\n",
      "('Iteration NUmber :', 168)\n",
      "0.125\n",
      "('Iteration NUmber :', 169)\n",
      "0.125\n",
      "('Iteration NUmber :', 170)\n",
      "0.0625\n",
      "('Iteration NUmber :', 171)\n",
      "0.0\n",
      "('Iteration NUmber :', 172)\n"
     ]
    }
   ],
   "source": [
    "predict = tf.argmax(logits, axis=1)\n",
    "predict\n",
    "batchLoss = tf.nn.softmax_cross_entropy_with_logits(logits=logits, labels=batch_label)\n",
    "loss = tf.reduce_mean(batchLoss)\n",
    "t_vars = tf.trainable_variables()\n",
    "\n",
    "\n",
    "\n",
    "#tf.initialize_all_variables()\n",
    "checkpoint_dir='/home/dl/Documents/Shamane Research - Repo/tensorflow-seq2seq-tutorials-master/check'\n",
    "saver = tf.train.Saver()\n",
    "tf.initialize_all_variables()\n",
    "with tf.Session() as sess:\n",
    "\ttf.train.start_queue_runners()\n",
    "#\tsess.run(tf.local_variables_initializer())\n",
    "#\ttf.global_variables_initializer().run()\n",
    "\n",
    "\tcoord = tf.train.Coordinator()\n",
    "\tthreads = tf.train.start_queue_runners(coord=coord)    \n",
    "\tckpt = tf.train.get_checkpoint_state(checkpoint_dir)\n",
    "    \n",
    "\tif ckpt and ckpt.model_checkpoint_path:\n",
    "\t\tprint(ckpt.model_checkpoint_path)\n",
    "\t\tif os.path.isabs(ckpt.model_checkpoint_path):\n",
    "\t\t\tsaver.restore(sess, ckpt.model_checkpoint_path)\n",
    "\t\telse:\n",
    "\t\t\tprint(\"zzzzzzzzzzzzzzzzzzzzzzzzzzzzzzzzzzzzzzzgdgdgd\")\n",
    "\t\t\tsaver.restore(sess, os.path.join(checkpoint_dir,ckpt.model_checkpoint_path))\n",
    "\t\tglobal_step = ckpt.model_checkpoint_path.split('/')[-1].split('-')[-1]\n",
    "\t\tprint('Successfully loaded model from %s at step=%s.' %(ckpt.model_checkpoint_path, global_step))\n",
    "\n",
    "\n",
    "\n",
    "\tfor iteration in xrange(100000):\n",
    "\t\tprint(\"Iteration NUmber :\", iteration)        \n",
    "\t\t_trainY, _predict = sess.run([batch_label, predict])\n",
    "        \n",
    "\t\t        \n",
    "\n",
    "\t\t_label = np.argmax(_trainY, axis=1)\n",
    "\t\t_accuracy = np.mean(_label == _predict)        \n",
    "\t\tprint(_accuracy)\n",
    "\t\tcoord.request_stop()\n",
    "\t\tcoord.join(threads)\n",
    "        \n",
    "\n",
    "            "
   ]
  },
  {
   "cell_type": "code",
   "execution_count": null,
   "metadata": {},
   "outputs": [],
   "source": []
  }
 ],
 "metadata": {
  "kernelspec": {
   "display_name": "Python 2",
   "language": "python",
   "name": "python2"
  },
  "language_info": {
   "codemirror_mode": {
    "name": "ipython",
    "version": 2
   },
   "file_extension": ".py",
   "mimetype": "text/x-python",
   "name": "python",
   "nbconvert_exporter": "python",
   "pygments_lexer": "ipython2",
   "version": "2.7.14+"
  }
 },
 "nbformat": 4,
 "nbformat_minor": 2
}
